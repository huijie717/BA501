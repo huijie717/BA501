{
 "cells": [
  {
   "cell_type": "markdown",
   "metadata": {},
   "source": [
    "# HOMEWORK 3"
   ]
  },
  {
   "cell_type": "markdown",
   "metadata": {},
   "source": [
    "## Huijie Guan"
   ]
  },
  {
   "cell_type": "code",
   "execution_count": 42,
   "metadata": {
    "collapsed": true
   },
   "outputs": [],
   "source": [
    "import numpy as np\n",
    "import pandas as pd\n",
    "import scipy\n",
    "import csv\n",
    "import matplotlib.pyplot as plt\n",
    "import datetime\n",
    "%matplotlib inline"
   ]
  },
  {
   "cell_type": "code",
   "execution_count": 43,
   "metadata": {
    "collapsed": true
   },
   "outputs": [],
   "source": [
    "file_location = \"/Users/huijie/Desktop/hw/BA501-master/\"\n",
    "file_name = \"BA501_python_data.csv\"\n",
    "my_data = pd.read_csv(file_location + file_name)"
   ]
  },
  {
   "cell_type": "code",
   "execution_count": 22,
   "metadata": {},
   "outputs": [],
   "source": [
    "#print(my_data)"
   ]
  },
  {
   "cell_type": "markdown",
   "metadata": {},
   "source": [
    "**1.How do you handle duplicate values in a dataset in Python?**\n"
   ]
  },
  {
   "cell_type": "code",
   "execution_count": 26,
   "metadata": {},
   "outputs": [
    {
     "data": {
      "text/html": [
       "<div>\n",
       "<style>\n",
       "    .dataframe thead tr:only-child th {\n",
       "        text-align: right;\n",
       "    }\n",
       "\n",
       "    .dataframe thead th {\n",
       "        text-align: left;\n",
       "    }\n",
       "\n",
       "    .dataframe tbody tr th {\n",
       "        vertical-align: top;\n",
       "    }\n",
       "</style>\n",
       "<table border=\"1\" class=\"dataframe\">\n",
       "  <thead>\n",
       "    <tr style=\"text-align: right;\">\n",
       "      <th></th>\n",
       "      <th>country</th>\n",
       "      <th>date</th>\n",
       "      <th>experiment_id</th>\n",
       "      <th>order_id</th>\n",
       "      <th>spend_used</th>\n",
       "    </tr>\n",
       "  </thead>\n",
       "  <tbody>\n",
       "    <tr>\n",
       "      <th>0</th>\n",
       "      <td>JP</td>\n",
       "      <td>20170402</td>\n",
       "      <td>12624548</td>\n",
       "      <td>5813140433216629693</td>\n",
       "      <td>NaN</td>\n",
       "    </tr>\n",
       "    <tr>\n",
       "      <th>1</th>\n",
       "      <td>US</td>\n",
       "      <td>20170403</td>\n",
       "      <td>12624549</td>\n",
       "      <td>16333056276711034931</td>\n",
       "      <td>NaN</td>\n",
       "    </tr>\n",
       "    <tr>\n",
       "      <th>2</th>\n",
       "      <td>JP</td>\n",
       "      <td>20170404</td>\n",
       "      <td>12624548</td>\n",
       "      <td>11227119161741298366</td>\n",
       "      <td>NaN</td>\n",
       "    </tr>\n",
       "    <tr>\n",
       "      <th>3</th>\n",
       "      <td>US</td>\n",
       "      <td>20170403</td>\n",
       "      <td>12624548</td>\n",
       "      <td>11927299833124210932</td>\n",
       "      <td>NaN</td>\n",
       "    </tr>\n",
       "    <tr>\n",
       "      <th>4</th>\n",
       "      <td>JP</td>\n",
       "      <td>20170403</td>\n",
       "      <td>12624549</td>\n",
       "      <td>11644727017708872749</td>\n",
       "      <td>NaN</td>\n",
       "    </tr>\n",
       "  </tbody>\n",
       "</table>\n",
       "</div>"
      ],
      "text/plain": [
       "  country      date  experiment_id              order_id  spend_used\n",
       "0      JP  20170402       12624548   5813140433216629693         NaN\n",
       "1      US  20170403       12624549  16333056276711034931         NaN\n",
       "2      JP  20170404       12624548  11227119161741298366         NaN\n",
       "3      US  20170403       12624548  11927299833124210932         NaN\n",
       "4      JP  20170403       12624549  11644727017708872749         NaN"
      ]
     },
     "execution_count": 26,
     "metadata": {},
     "output_type": "execute_result"
    }
   ],
   "source": [
    "df = pd.DataFrame(my_data, columns = ['country', 'date', 'experiment_id', 'order_id', 'spend_used'])\n",
    "df\n",
    "#identify duplicates \n",
    "df.duplicated()\n",
    "#drop duplicates \n",
    "df.drop_duplicates()\n",
    "\n",
    "df.head()"
   ]
  },
  {
   "cell_type": "markdown",
   "metadata": {},
   "source": [
    "\n",
    "**2.You are given two tables - friend_request and request_accepted. Friend_request contains requester_id, time and sent_to_id and request_accepted table contains time, acceptor_id and requestor_id. How will you determine the overall acceptance rate of requests? \n",
    "(in sql and python)**"
   ]
  },
  {
   "cell_type": "code",
   "execution_count": 30,
   "metadata": {},
   "outputs": [
    {
     "name": "stdout",
     "output_type": "stream",
     "text": [
      "   requester_id  sent_to_id        time\n",
      "0             1           6  2017-07-17\n",
      "1             2           7  2017-09-02\n",
      "2             3           8  2017-09-03\n",
      "3             4           9  2017-08-01\n",
      "4             5          10  2017-08-02\n",
      "   acceptor_id  requester_id        time\n",
      "0            6             1  2017-07-17\n",
      "1            8             3  2017-09-04\n",
      "2           10             5  2017-08-02\n"
     ]
    }
   ],
   "source": [
    "#friend_request(requester_id,time,sent_to_id)\n",
    "#request_accepted(requester_id,time,acceptor_id)\n",
    "\n",
    "#CODE IN SQL\n",
    "#SELECT sum(if(r.acceptor_id is null, 0, 1))/ sum(r.requester_id) AS rate\n",
    "#FROM friend_request f\n",
    "#LEFT JOIN request_accepted r\n",
    "#ON f.requester_id=r.requester_id\n",
    "\n",
    "\n",
    "friend_request = pd.DataFrame(\n",
    "    {\"requester_id\":[1,2,3,4,5],\n",
    "     \"time\":[\"2017-07-17\",\"2017-09-02\",\"2017-09-03\",\"2017-08-01\",\"2017-08-02\"],\n",
    "     \"sent_to_id\":[6,7,8,9,10]}\n",
    ")\n",
    "\n",
    "request_accepted = pd.DataFrame(\n",
    "    {\"requester_id\":[1,3,5],\n",
    "     \"time\":[\"2017-07-17\",\"2017-09-04\",\"2017-08-02\"],\n",
    "     \"acceptor_id\":[6,8,10]}\n",
    ")\n",
    "\n",
    "print(friend_request)\n",
    "print(request_accepted)\n"
   ]
  },
  {
   "cell_type": "code",
   "execution_count": 32,
   "metadata": {},
   "outputs": [
    {
     "data": {
      "text/plain": [
       "0.6"
      ]
     },
     "execution_count": 32,
     "metadata": {},
     "output_type": "execute_result"
    }
   ],
   "source": [
    "#LEFT JOIN IN SQL\n",
    "a = pd.merge(friend_request,request_accepted,how=\"left\",on=\"requester_id\")\n",
    "len(a[\"acceptor_id\"][a.acceptor_id > 0])/(len(a[\"acceptor_id\"])*1.0)"
   ]
  },
  {
   "cell_type": "markdown",
   "metadata": {},
   "source": [
    "**3.Do some research and summarize the business model of your dream company, or company that you interview with.\n",
    "  What is the product\n",
    "  Who are the customer\n",
    "  How do they make money\n",
    "  Why do you want to work for this company?\n",
    "  (Optional) If you were CEO, what would you do to increase company’s revenue in the next 5 years?**\n"
   ]
  },
  {
   "cell_type": "markdown",
   "metadata": {
    "collapsed": true
   },
   "source": [
    "Amazon\n",
    "\n",
    "Product: \n",
    "1.General Retail\n",
    "2.Third Party Sellers\n",
    "3.Amazon Web Services\n",
    "4.Kindle Family\n",
    "5.Media and Content\n",
    "6.Prime\n",
    "\n",
    "Customer: \n",
    "1.Shoppers who are used to shop online\n",
    "2.Enterprises need cloud service\n",
    "\n",
    "How:\n",
    "Increase their business to become the top one e-commerce comany in the states and the world\n",
    "Turn more customers to loyal customers\n",
    "Develope their own shipping system \n",
    "\n",
    "Why:\n",
    "Seattle company \n",
    "Company's principles match my personal goals"
   ]
  },
  {
   "cell_type": "markdown",
   "metadata": {},
   "source": [
    "**4.Similarly to PrintDailyTimeSeries() in the sample code, write a Python function called PrintCumulativeTimeSeries(). Specifically:**\n",
    "\n",
    "**The function takes three inputs:\n",
    "experiment_id\n",
    "country\n",
    "vertical**\n",
    "\n",
    "**The function produces two outputs:\n",
    "A time series chart showing the cumulative uplift (hint: search for cumsum)\n",
    "Print out the cumulative % uplift on revenue, \n",
    "Print out the cumulative % uplift on revenue, experiment vs. control. Hint: (red - blue) / blue %**\n",
    "\n",
    "**why cumulative? only care about the end.**\n"
   ]
  },
  {
   "cell_type": "code",
   "execution_count": 52,
   "metadata": {},
   "outputs": [
    {
     "data": {
      "text/html": [
       "<div>\n",
       "<style>\n",
       "    .dataframe thead tr:only-child th {\n",
       "        text-align: right;\n",
       "    }\n",
       "\n",
       "    .dataframe thead th {\n",
       "        text-align: left;\n",
       "    }\n",
       "\n",
       "    .dataframe tbody tr th {\n",
       "        vertical-align: top;\n",
       "    }\n",
       "</style>\n",
       "<table border=\"1\" class=\"dataframe\">\n",
       "  <thead>\n",
       "    <tr style=\"text-align: right;\">\n",
       "      <th></th>\n",
       "      <th>country</th>\n",
       "      <th>date</th>\n",
       "      <th>experiment_id</th>\n",
       "      <th>order_id</th>\n",
       "      <th>spend_usd</th>\n",
       "      <th>user_id</th>\n",
       "      <th>vertical</th>\n",
       "    </tr>\n",
       "  </thead>\n",
       "  <tbody>\n",
       "    <tr>\n",
       "      <th>0</th>\n",
       "      <td>JP</td>\n",
       "      <td>2017-04-02</td>\n",
       "      <td>12624548</td>\n",
       "      <td>5813140433216629693</td>\n",
       "      <td>16.138855</td>\n",
       "      <td>5006730028073359543</td>\n",
       "      <td>ANDROID_APPS</td>\n",
       "    </tr>\n",
       "    <tr>\n",
       "      <th>1</th>\n",
       "      <td>US</td>\n",
       "      <td>2017-04-03</td>\n",
       "      <td>12624549</td>\n",
       "      <td>16333056276711034931</td>\n",
       "      <td>9.990000</td>\n",
       "      <td>5938685669571545259</td>\n",
       "      <td>ANDROID_APPS</td>\n",
       "    </tr>\n",
       "    <tr>\n",
       "      <th>2</th>\n",
       "      <td>JP</td>\n",
       "      <td>2017-04-04</td>\n",
       "      <td>12624548</td>\n",
       "      <td>11227119161741298366</td>\n",
       "      <td>19.887087</td>\n",
       "      <td>17623708458399141713</td>\n",
       "      <td>ANDROID_APPS</td>\n",
       "    </tr>\n",
       "    <tr>\n",
       "      <th>3</th>\n",
       "      <td>US</td>\n",
       "      <td>2017-04-03</td>\n",
       "      <td>12624548</td>\n",
       "      <td>11927299833124210932</td>\n",
       "      <td>19.990000</td>\n",
       "      <td>18042812344456618148</td>\n",
       "      <td>ANDROID_APPS</td>\n",
       "    </tr>\n",
       "    <tr>\n",
       "      <th>4</th>\n",
       "      <td>JP</td>\n",
       "      <td>2017-04-03</td>\n",
       "      <td>12624549</td>\n",
       "      <td>11644727017708872749</td>\n",
       "      <td>88.220093</td>\n",
       "      <td>4325104700699531031</td>\n",
       "      <td>ANDROID_APPS</td>\n",
       "    </tr>\n",
       "  </tbody>\n",
       "</table>\n",
       "</div>"
      ],
      "text/plain": [
       "  country       date  experiment_id              order_id  spend_usd  \\\n",
       "0      JP 2017-04-02       12624548   5813140433216629693  16.138855   \n",
       "1      US 2017-04-03       12624549  16333056276711034931   9.990000   \n",
       "2      JP 2017-04-04       12624548  11227119161741298366  19.887087   \n",
       "3      US 2017-04-03       12624548  11927299833124210932  19.990000   \n",
       "4      JP 2017-04-03       12624549  11644727017708872749  88.220093   \n",
       "\n",
       "                user_id      vertical  \n",
       "0   5006730028073359543  ANDROID_APPS  \n",
       "1   5938685669571545259  ANDROID_APPS  \n",
       "2  17623708458399141713  ANDROID_APPS  \n",
       "3  18042812344456618148  ANDROID_APPS  \n",
       "4   4325104700699531031  ANDROID_APPS  "
      ]
     },
     "execution_count": 52,
     "metadata": {},
     "output_type": "execute_result"
    }
   ],
   "source": [
    "\n",
    "# deal with date format\n",
    "my_data.date = pd.to_datetime(my_data.date, format='%Y-%m-%d')\n",
    "my_data.date.head()\n",
    "my_data.head(5)"
   ]
  },
  {
   "cell_type": "code",
   "execution_count": 56,
   "metadata": {},
   "outputs": [
    {
     "data": {
      "image/png": "[encoded data removed]",
      "text/plain": [
       "<matplotlib.figure.Figure at 0x10abcff98>"
      ]
     },
     "metadata": {},
     "output_type": "display_data"
    }
   ],
   "source": [
    "## sample code \n",
    "\n",
    "# function 1: for any given experiment_id, return a list group by date\n",
    "def GetSeries(my_data, my_id):\n",
    "    table = my_data[[\"date\", \"spend_usd\"]][my_data.experiment_id == my_id]\n",
    "    series = table.groupby('date')['spend_usd'].sum()\n",
    "    return(series)\n",
    "\n",
    "# function 2: for any two series, plot the time series\n",
    "def PlotSeries(experiment_series, control_series):\n",
    "    fig, ax = plt.subplots()\n",
    "    ax.plot(experiment_series, color=\"red\", label=\"experiment\")\n",
    "    ax.plot(control_series, color=\"blue\", label=\"control\")\n",
    "    ax.set_title(\"Red vs. Blue\")\n",
    "    ax.set_ylabel(\"Total spend\")\n",
    "    ax.grid(True, which=\"both\")\n",
    "    ax.legend()\n",
    "    plt.gcf().autofmt_xdate()\n",
    "\n",
    "# master function: \n",
    "def PrintDailyTimeSeries(my_data, experiment_ids):\n",
    "    # make sure our x-axis is consistent\n",
    "    index_series = np.unique(my_data.date) # unique date\n",
    "    index_series = np.sort(index_series) # sort by date\n",
    "    \n",
    "    # data grouping\n",
    "    my_data = my_data.sort_values(\"date\", ascending=True, inplace=False)\n",
    "    treatment_series = GetSeries(my_data, experiment_ids[0])\n",
    "    control_series = GetSeries(my_data, experiment_ids[1])\n",
    "    \n",
    "    PlotSeries(treatment_series, control_series)\n",
    "    \n",
    "# test\n",
    "PrintDailyTimeSeries(my_data, [12624548,12624549])"
   ]
  },
  {
   "cell_type": "code",
   "execution_count": 55,
   "metadata": {},
   "outputs": [
    {
     "name": "stdout",
     "output_type": "stream",
     "text": [
      "Cumulative impact: -2.46850453816%\n"
     ]
    },
    {
     "data": {
      "image/png": "[encoded data removed]",
      "text/plain": [
       "<matplotlib.figure.Figure at 0x110687668>"
      ]
     },
     "metadata": {},
     "output_type": "display_data"
    }
   ],
   "source": [
    "# now, PrintCumulativeTimeSeries()\n",
    "# a few function to return the cumulative sum instead of sum\n",
    "\n",
    "\n",
    "def GetCumulativeSeries(my_data, my_id, country):\n",
    "    table = my_data[[\"date\", \"spend_usd\"]][(my_data.experiment_id == my_id) & (my_data.country == country)]\n",
    "    series = table.groupby('date')['spend_usd'].sum()\n",
    "    series = np.cumsum(series)\n",
    "    total_revenue = series[-1]\n",
    "    return((series, total_revenue))\n",
    "\n",
    "# alternate solution (pseudo code):\n",
    "#   for date in our_dates:\n",
    "#        this_value = series.spend_usd[series.date <= date].sum()\n",
    "# you will be creating new series, very messy\n",
    "\n",
    "# same as before\n",
    "def PlotSeries(experiment_series, control_series):\n",
    "    fig, ax = plt.subplots()\n",
    "    ax.plot(experiment_series, color=\"red\", label=\"experiment\")\n",
    "    ax.plot(control_series, color=\"blue\", label=\"control\")\n",
    "    ax.set_title(\"Red vs. Blue\")\n",
    "    ax.set_ylabel(\"Total spend\")\n",
    "    ax.grid(True, which=\"both\")\n",
    "    ax.legend()\n",
    "    plt.gcf().autofmt_xdate()\n",
    "    \n",
    "def PrintCumulativeTimeSeries(my_data, experiment_ids, country):\n",
    "    # make sure our x-axis is consistent\n",
    "    index_series = np.unique(my_data.date) # unique date\n",
    "    index_series = np.sort(index_series) # sort by date\n",
    "    \n",
    "    # data grouping\n",
    "    my_data = my_data.sort_values(\"date\", ascending=True, inplace=False)\n",
    "    treatment_series = GetCumulativeSeries(my_data, experiment_ids[0], country)[0]\n",
    "    control_series = GetCumulativeSeries(my_data, experiment_ids[1], country)[0]\n",
    "    treatment_revenue = GetCumulativeSeries(my_data, experiment_ids[0], country)[1]\n",
    "    control_revenue = GetCumulativeSeries(my_data, experiment_ids[1], country)[1]\n",
    "    \n",
    "    print(\"Cumulative impact: \" + str(treatment_revenue/control_revenue*100-100) + \"%\")\n",
    "    PlotSeries(treatment_series, control_series)\n",
    "\n",
    "PrintCumulativeTimeSeries(my_data, [12624548,12624549], \"JP\")\n"
   ]
  },
  {
   "cell_type": "code",
   "execution_count": null,
   "metadata": {
    "collapsed": true
   },
   "outputs": [],
   "source": []
  }
 ],
 "metadata": {
  "kernelspec": {
   "display_name": "Python [default]",
   "language": "python",
   "name": "python3"
  },
  "language_info": {
   "codemirror_mode": {
    "name": "ipython",
    "version": 3
   },
   "file_extension": ".py",
   "mimetype": "text/x-python",
   "name": "python",
   "nbconvert_exporter": "python",
   "pygments_lexer": "ipython3",
   "version": "3.5.3"
  }
 },
 "nbformat": 4,
 "nbformat_minor": 2
}
